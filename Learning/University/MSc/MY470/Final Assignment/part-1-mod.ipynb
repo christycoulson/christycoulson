{
 "cells": [
  {
   "cell_type": "code",
   "execution_count": null,
   "metadata": {},
   "outputs": [],
   "source": [
    "# Calculating Observed No. of teams per no. of cheaters\n",
    "\n",
    "# load cheaters data \n",
    "with open('../assignment-final-data/cheaters.txt') as c:\n",
    "    ch = c.readlines()\n",
    "    cheaters = [i.split('\\t', 1)[0] for i in ch]\n",
    "# I should modularise this to a function later for extra marks.  \n",
    "\n",
    "# Load teams data\n",
    "with open('../assignment-final-data/team_ids.txt') as t:\n",
    "    tm = t.readlines()\n",
    "    teams = [i.split('\\t') for i in tm]\n",
    "    teams = sorted(teams, key=lambda x: x[0])\n",
    "# I should modularise this to a function later for extra marks.  \n",
    "\n",
    "def add_cheater_dummy(list_of_lists):\n",
    "    for i in range(len(list_of_lists)):\n",
    "        if teams[i][1] in cheaters:\n",
    "            teams[i].append(1)\n",
    "        else:\n",
    "            teams[i].append(0)\n",
    "\n",
    "add_cheater_dummy(teams)\n",
    "\n",
    "def calc_cheaters_per_matchteam(list_of_lists):\n",
    "    \n",
    "    match_team_cheaters_dic = {}\n",
    "    for list_in_lists in list_of_lists:\n",
    "        match_id, _, team_id, cheater_dummy = list_in_lists\n",
    "        key = (match_id, team_id)\n",
    "        if key in match_team_cheaters_dic:\n",
    "            match_team_cheaters_dic[key] += cheater_dummy\n",
    "        else:\n",
    "            match_team_cheaters_dic[key] = cheater_dummy\n",
    "    return match_team_cheaters_dic\n",
    "\n",
    "match_team_cheaters_dic = calc_cheaters_per_matchteam(teams)\n",
    "\n",
    "def get_no_cheaters(dic):\n",
    "    actual_cheaters_list = []\n",
    "    for i in 0,1,2,3,4:\n",
    "        actual_cheaters_list.append(list(dic.values()).count(i))\n",
    "    return actual_cheaters_list\n",
    "\n",
    "actual_cheaters_list = get_no_cheaters(match_team_cheaters_dic)\n",
    "\n",
    "print(\"There are\", actual_cheaters_list[0],\"instances of 0 cheaters in a team.\")\n",
    "print(\"There are\", actual_cheaters_list[1],\"instances of 1 cheater in a team.\")\n",
    "print(\"There are\", actual_cheaters_list[2],\"instances of 2 cheaters in a team.\")\n",
    "print(\"There are\", actual_cheaters_list[3],\"instances of 3 cheaters in a team.\")\n",
    "print(\"There are\", actual_cheaters_list[4],\"instances of 4 cheaters in a team.\")"
   ]
  },
  {
   "cell_type": "code",
   "execution_count": null,
   "metadata": {},
   "outputs": [],
   "source": [
    "# Wrangling\n",
    "def add_cheater_dummy(list_of_lists):\n",
    "    for i in range(len(list_of_lists)):\n",
    "        if teams[i][1] in cheaters:\n",
    "            teams[i].append(1)\n",
    "        else:\n",
    "            teams[i].append(0)\n",
    "            \n",
    "    "
   ]
  },
  {
   "cell_type": "code",
   "execution_count": null,
   "metadata": {},
   "outputs": [],
   "source": [
    "# Calculations\n",
    "\n",
    "def calc_cheaters_per_matchteam(list_of_lists):\n",
    "    \n",
    "    match_team_cheaters_dic = {}\n",
    "    for list_in_lists in list_of_lists:\n",
    "        match_id, _, team_id, cheater_dummy = list_in_lists\n",
    "        key = (match_id, team_id)\n",
    "        if key in match_team_cheaters_dic:\n",
    "            match_team_cheaters_dic[key] += cheater_dummy\n",
    "        else:\n",
    "            match_team_cheaters_dic[key] = cheater_dummy\n",
    "\n",
    "def get_no_cheaters(dic):\n",
    "    actual_cheaters_list = []\n",
    "    for i in 0,1,2,3,4:\n",
    "        actual_cheaters_list.append(list(dic.values()).count(i))\n",
    "    return actual_cheaters_list"
   ]
  }
 ],
 "metadata": {
  "kernelspec": {
   "display_name": "Python 3",
   "language": "python",
   "name": "python3"
  },
  "language_info": {
   "codemirror_mode": {
    "name": "ipython",
    "version": 3
   },
   "file_extension": ".py",
   "mimetype": "text/x-python",
   "name": "python",
   "nbconvert_exporter": "python",
   "pygments_lexer": "ipython3",
   "version": "3.9.6 (default, Oct 18 2022, 12:41:40) \n[Clang 14.0.0 (clang-1400.0.29.202)]"
  },
  "orig_nbformat": 4,
  "vscode": {
   "interpreter": {
    "hash": "31f2aee4e71d21fbe5cf8b01ff0e069b9275f58929596ceb00d14d90e3e16cd6"
   }
  }
 },
 "nbformat": 4,
 "nbformat_minor": 2
}
