{
 "cells": [
  {
   "cell_type": "markdown",
   "metadata": {},
   "source": [
    "### MY470 Computer Programming\n",
    "\n",
    "### Final Assignment, MT 2022\n",
    "\n",
    "#### \\*\\*\\* Due 12:00 noon on Monday, January 23, 2023 \\*\\*\\*"
   ]
  },
  {
   "cell_type": "markdown",
   "metadata": {
    "slideshow": {
     "slide_type": "slide"
    }
   },
   "source": [
    "---\n",
    "## The homophily and social contagion of cheating\n",
    "\n",
    "The final assignment asks you to use the computational thinking and programming skills you learned in the course to answer an empirical social science question. You are expected to apply the best practices and theoretical concepts we covered in the course to produce a program that not only returns the correct output but is also legible, modular, and reasonably optimized. The assignment assumes mastery of loops, conditionals, and functions, as well as awareness of issues related to runtime performance.\n",
    "\n",
    "In the assignment, we will study the homophily and social contagion of cheating in the massive multiplayer online game PlayerUnknown's Battlegrounds (PUBG). Cheating in this context means the adoption of unapproved software that gives the player an unfair advantage in the game (e.g. being able to see through walls). \n",
    "\n",
    "Our hypotheses are that cheaters tend to associate with other cheaters but also, players who interact with cheaters become likely to adopt cheating themselves. To provide preliminary evidence for these hypotheses, we will:\n",
    "\n",
    "1. Observe whether cheaters tend to team up with other cheaters more than chance.\n",
    "2. Observe whether players who observe cheaters are likely to become cheaters more than chance.\n",
    "3. Observe whether players who are killed by cheaters are likely to become cheaters more than chance.\n",
    "\n",
    "To test the \"more than chance\" part, we will simulate alternative universes in which the players played the same game but joined a different team or happened to be killed by someone else at a different time. We will then compare how what we observe in the actual data compares to what we would expect in a \"randomized\" world.  \n",
    "\n",
    "**NOTE: You are only allowed to use fundamental Python data types (lists, tuples, dictionaries, numpy.ndarray, etc.) to complete this assignment.** You are not allowed to use advanced data querying and data analysis packages such as pandas, sqlite, networkx, or similar. We impose this restriction in order to test your grasp of fundamental programming concepts, not your scripting experience with Python libraries from before or from other courses you may be taking. \n",
    "\n",
    "#### Hints\n",
    "\n",
    "Although this assignment is quite streamlined, imagine that the tasks here are part of a larger project. How would you structure your program if in the future you may need to use a different dataset with similar structure, manipulate the data differently, add additional analyses, or modify the focus of the current analysis?  \n",
    "\n",
    "Keep different data manipulations in separate functions/methods and group related functions/classes in separate `.py` files. Name your modules in an informative way."
   ]
  },
  {
   "cell_type": "markdown",
   "metadata": {
    "slideshow": {
     "slide_type": "slide"
    }
   },
   "source": [
    "### Data\n",
    "\n",
    "You will find the data in the repository [https://github.com/lse-my470/assignment-final-data.git](https://github.com/lse-my470/assignment-final-data.git). Please clone the data repository in the same directory where you clone the repository `assignment-final-yourgithubname`. Keep the name for the data folder `assignment-final-data`. Any time when you refer to the data in your code, please use a relative path such as `'../assignment-final-data/filename.txt'` instead of an absolute path such as `'/Users/myname/Documents/my470/assignment-final-data/filename.txt'`. This way, we will be able to test your submission with our own copy of the data without having to modify your code.\n",
    "\n",
    "The data were collected by Jinny Kim (LSE MSc ASDS '19). The repository contains the following files:\n",
    "\n",
    "* `cheaters.txt` – contains cheaters who played between March 1 and March 10, 2019\n",
    "    1. player account id\n",
    "    2. estimated date when the player started cheating\n",
    "    3. date when the player's account was banned due to cheating\n",
    "\n",
    "\n",
    "* `kills.txt` – contains the killings done in 6,000 randomly selected matches played between March 1 and March 10, 2019\n",
    "    1. match id \n",
    "    2. account id of the killer\n",
    "    3. account id of the player who got killed\n",
    "    4. time when the kill happened\n",
    " \n",
    " \n",
    "* `team_ids.txt` – contains the team ids for players in 5,419 team-play matches in the same period. If a match from the kills.txt file does not appear in these data, we will assume that it was in single-player mode.  \n",
    "    1. match id \n",
    "    2. player account id\n",
    "    3. team id in match\n",
    "    \n",
    "You should not modify the original data in any way. Similarly, you should not duplicate the data in this repository but instead use a relative path to access them.\n",
    "\n",
    "### Output\n",
    "\n",
    "The tasks ask you to output actual counts and expecteded counts (mean with 95% confidence interval). To estimate the 95% conifdence intervals, ignore the small sample size and the fact that we are dealing with count data, and simply use the approximation: 95% CI $= \\mu \\pm 1.96 \\frac{\\sigma}{\\sqrt{n}}$, where $\\mu$ is the mean and $\\sigma$ the standard deviation of the counts in the $n=20$ randomizations. You are free to use `statsmodels` or `numpy` to calculate these values.\n",
    "\n",
    "\n",
    "#### Hints\n",
    "\n",
    "When writing your code, test it on a small \"toy dataset\", instead of the entire data. This way, you won't need to wait for minutes/hours just to find out that you have a syntax error!\n",
    "\n",
    "If the randomization is time consuming, it may be worth finding a way to save the data you generate on hard disk so that you don't need to run the randomization again and again. If you decide to do so, please write your code to save any such files with processed data in the directory where this file resides. This way, we can run your code without having to alter it.\n",
    "\n",
    "If you need to save any new data, think carefully about the most efficient way, both in terms of time and space, to save them."
   ]
  },
  {
   "cell_type": "markdown",
   "metadata": {},
   "source": [
    "## Import and run your code here\n",
    "\n",
    "Keep your code in separate `.py` files and then import it in the code cell below. In the subsequent cells, call the functions/methods you need to conduct the requested analyses. We should be able to run all cells here to calculate again the results and get the requested output, without having to modify your code in any way. "
   ]
  },
  {
   "cell_type": "code",
   "execution_count": 1,
   "metadata": {},
   "outputs": [],
   "source": [
    "# These are my own modules.\n",
    "import load\n",
    "import wrangle\n",
    "import calculate\n",
    "\n",
    "# These are external modules.\n",
    "import numpy \n",
    "import statsmodels\n",
    "import statistics\n",
    "import math\n",
    "import random\n",
    "from datetime import datetime\n",
    "import collections"
   ]
  },
  {
   "attachments": {},
   "cell_type": "markdown",
   "metadata": {},
   "source": [
    "### 1. Do cheaters team up?\n",
    "\n",
    "Use the files `cheaters.txt` and `team_ids.txt` to estimate how often cheaters (regardless of when exactly they started cheating) end up on the same team. Your output should say how many teams have 0, 1, 2, or 4 cheaters.\n",
    "\n",
    "Now, randomly shuffle the team ids among the players in a match. Repeat this 20 times and estimate the expected counts as before. Output the mean and the 95% confidence intervals for the expected counts. \n",
    "\n",
    "*Optional: Conclude in a short comment what you observe. This reflection is optional and will not be marked.*\n"
   ]
  },
  {
   "cell_type": "code",
   "execution_count": 2,
   "metadata": {},
   "outputs": [
    {
     "name": "stdout",
     "output_type": "stream",
     "text": [
      "There are 170782 observed instances of 0 cheaters in a team.\n",
      "There are 3199 observed instances of 1 cheater in a team.\n",
      "There are 182 observed instances of 2 cheaters in a team.\n",
      "There are 9 observed instances of 3 cheaters in a team.\n",
      "There are 2 observed instances of 4 cheaters in a team.\n",
      "[170782, 3199, 182, 9, 2]\n"
     ]
    }
   ],
   "source": [
    "# Calculating observed number of teams per number of cheaters\n",
    "\n",
    "# Load cheaters data\n",
    "cheaters = load.load_first_line('../assignment-final-data/cheaters.txt')\n",
    "\n",
    "# Load teams data\n",
    "teams = load.load_all_sorted('../assignment-final-data/team_ids.txt')\n",
    "\n",
    "# Add dummy for whether a player is a cheater\n",
    "wrangle.add_dummy_end(teams, cheaters)\n",
    "\n",
    "# Calculate number of cheaters per team by counting dummy variable\n",
    "match_team_cheaters_dic = calculate.calc_dummy_count_per_key(teams)\n",
    "\n",
    "# Count number of teams with 0, 1, 2, 3, 4 cheaters\n",
    "actual_cheaters_list = calculate.get_no_cheaters(match_team_cheaters_dic, 5)\n",
    "\n",
    "print(\"There are\", actual_cheaters_list[0],\"observed instances of 0 cheaters in a team.\")\n",
    "print(\"There are\", actual_cheaters_list[1],\"observed instances of 1 cheater in a team.\")\n",
    "print(\"There are\", actual_cheaters_list[2],\"observed instances of 2 cheaters in a team.\")\n",
    "print(\"There are\", actual_cheaters_list[3],\"observed instances of 3 cheaters in a team.\")\n",
    "print(\"There are\", actual_cheaters_list[4],\"observed instances of 4 cheaters in a team.\")\n",
    "print(actual_cheaters_list)"
   ]
  },
  {
   "cell_type": "code",
   "execution_count": 3,
   "metadata": {},
   "outputs": [
    {
     "name": "stdout",
     "output_type": "stream",
     "text": [
      "There is an expected count of 170610.85 instances of 0 cheaters in a team, with a lower 95% confidence interval of 170613.02176770108 and an upper 95% confidence interval of 170608.67823229893 .\n",
      "There is an expected count of 3528.6 instances of 1 cheaters in a team, with a lower 95% confidence interval of 3532.8714842976724 and an upper 95% confidence interval of 3524.3285157023274 .\n",
      "There is an expected count of 34.25 instances of 2 cheaters in a team, with a lower 95% confidence interval of 36.31975589712512 and an upper 95% confidence interval of 32.18024410287488 .\n",
      "There is an expected count of 0.3 instances of 3 cheaters in a team, with a lower 95% confidence interval of 0.5503572184741339 and an upper 95% confidence interval of 0.04964278152586604 .\n",
      "There is an expected count of 0 instances of 4 cheaters in a team, with a lower 95% confidence interval of 0.0 and an upper 95% confidence interval of 0.0 .\n"
     ]
    }
   ],
   "source": [
    "# Now for the randomisation and testing of the null hypothesis.\n",
    "# I have chosen to run a for loop 20 times and keep the functions visible to this level of modularity for legibility and understanding of logic. \n",
    "# I could have wrapped this all up in one function named, for example, 'part 3,' \n",
    "# but I feel like that hides the logic and makes it harder to understand.\n",
    "\n",
    "# Run 20 times and get the number of teams with 0, 1, 2, 3, 4 cheaters\n",
    "cheaters_pt = []\n",
    "\n",
    "for i in range(20):\n",
    "        cheaters_pt.append(calculate.get_random_teams_per_cheaters(teams))\n",
    "\n",
    "# Calculate the number of teams with 0, 1, 2, 3, 4 cheaters for each randomisation\n",
    "cheaters = wrangle.get_cheaters_per_match_team(cheaters_pt)\n",
    "\n",
    "# Get stats for each number of cheaters\n",
    "zero_cheaters_stats = calculate.get_stats_list(cheaters[0])\n",
    "one_cheater_stats = calculate.get_stats_list(cheaters[1])\n",
    "two_cheaters_stats = calculate.get_stats_list(cheaters[2])\n",
    "three_cheaters_stats = calculate.get_stats_list(cheaters[3])\n",
    "four_cheaters_stats = calculate.get_stats_list(cheaters[4])\n",
    "\n",
    "print(\"There is an expected count of\", zero_cheaters_stats[0], \n",
    "      \"instances of 0 cheaters in a team, with a lower 95% confidence interval of\", \n",
    "      zero_cheaters_stats[2], \"and an upper 95% confidence interval of\", \n",
    "      zero_cheaters_stats[3],\".\") \n",
    "\n",
    "print(\"There is an expected count of\", one_cheater_stats[0], \n",
    "      \"instances of 1 cheaters in a team, with a lower 95% confidence interval of\", \n",
    "      one_cheater_stats[2], \"and an upper 95% confidence interval of\", \n",
    "      one_cheater_stats[3],\".\") \n",
    "\n",
    "print(\"There is an expected count of\", two_cheaters_stats[0], \n",
    "      \"instances of 2 cheaters in a team, with a lower 95% confidence interval of\", \n",
    "      two_cheaters_stats[2], \"and an upper 95% confidence interval of\", \n",
    "      two_cheaters_stats[3],\".\") \n",
    "\n",
    "print(\"There is an expected count of\", three_cheaters_stats[0], \n",
    "      \"instances of 3 cheaters in a team, with a lower 95% confidence interval of\", \n",
    "      three_cheaters_stats[2], \"and an upper 95% confidence interval of\", \n",
    "      three_cheaters_stats[3],\".\") \n",
    "\n",
    "print(\"There is an expected count of\", four_cheaters_stats[0], \n",
    "      \"instances of 4 cheaters in a team, with a lower 95% confidence interval of\", \n",
    "      four_cheaters_stats[2], \"and an upper 95% confidence interval of\", \n",
    "      four_cheaters_stats[3],\".\") "
   ]
  },
  {
   "attachments": {},
   "cell_type": "markdown",
   "metadata": {},
   "source": [
    "__Part 1: Conclusions__\n",
    "\n",
    "The function of this analysis is to test whether cheaters tend to team up together. In this case, the randomisation of teams 20 times acts as the null hypothesis against which our observed values have been tested. This null hypothesis is that cheaters do not tend to team up with each other. We are only able to reject the null hypothesis if the counts for the number of teams with 2, 3, and 4 cheaters on a team exceed the upper confidence interval of the expected counts. \n",
    "\n",
    "We can conclude that __yes, cheaters do tend to team up__ as we observe more teams with 2, 3 and 4 cheaters than expected under the null hypothesis at a statistical significance level of 0.05. For example, we expect between around 33 and 36 teams with 2 cheaters in them (each randomisation will be different, but these are general figures), but we observe 182. We expect less than 1 team with 3 or 4 cheaters on it, but observe 9 and 2 teams. "
   ]
  },
  {
   "attachments": {},
   "cell_type": "markdown",
   "metadata": {},
   "source": [
    "### 2. Do victims of cheating start cheating?\n",
    "\n",
    "Use the files `cheaters.txt` and `kills.txt` to count how many players got killed by an active cheater on at least one occasion and then started cheating. Specifically, we are interested in situations where:\n",
    "\n",
    "1. Player B has started cheating but player A is not cheating.\n",
    "2. Player B kills player A.\n",
    "3. At some point afterwards, player A starts cheating.\n",
    "\n",
    "Output the count in the data. \n",
    "\n",
    "Then, simulate alternative worlds in which everything is the same but the events took somewhat different sequence. To do so, randomize within a game, keeping the timing and structure of interactions but shuffling the player ids. Generate 20 randomizations like this and estimate the expected count of victims of cheating who start cheating as before. Output the mean and the 95% confidence interval for the expected count in these randomized worlds.\n",
    "\n",
    "*Optional: Conclude in a short comment what you observe. This reflection is optional and will not be marked.*\n",
    "\n",
    "#### Hint\n",
    "\n",
    "Starting time of cheating is estimated as a date, so assume that a player cheats on any match that they started playing on that date or afterwards. Use the match starting date so that if the match started before midnight of the cheating date but ended after midnight, we will assume that the player was not cheating just yet. \n"
   ]
  },
  {
   "cell_type": "code",
   "execution_count": 4,
   "metadata": {},
   "outputs": [
    {
     "name": "stdout",
     "output_type": "stream",
     "text": [
      "There are 47 instances of a victim becoming a cheater after being killed by a cheater.\n"
     ]
    }
   ],
   "source": [
    "# 2.1 Calculate the observed number of instances of a victim becoming a cheater after being killed by a cheater.\n",
    "\n",
    "# Load kills data\n",
    "kills = load.load_all_sorted_match('../assignment-final-data/kills.txt')\n",
    "\n",
    "# Load cheaters data \n",
    "cheaters = load.load_first_two_lines('../assignment-final-data/cheaters.txt')\n",
    "\n",
    "# Create dictionary of cheaters and date they started cheating with cheater as key and date as value\n",
    "cheat_date_dic = wrangle.get_dict(cheaters)\n",
    "\n",
    "# Add dummy variable to kills data for whether victim becomes a cheater after being killed by a cheater\n",
    "kill_cheat = wrangle.add_dummies(kills, cheat_date_dic)\n",
    "\n",
    "# Calculate number of observed instances of victim becoming a cheater after being killed by a cheater.\n",
    "part_2_observed_count = calculate.count_1(kill_cheat, 6)\n",
    "\n",
    "print(\"There are\", part_2_observed_count, \"instances of a victim becoming a cheater after being killed by a cheater.\")"
   ]
  },
  {
   "cell_type": "code",
   "execution_count": 5,
   "metadata": {},
   "outputs": [],
   "source": [
    "# 2.2 Calculate the expected number of instances of a victim becoming a cheater after being killed by a cheater.\n",
    "\n",
    "# Make Dictionaries of match_id and player_id for cheaters and victims.\n",
    "# These are constant and thus are kept in a different code block. I will also use these for part 3.\n",
    " \n",
    "match_killer_ids = wrangle.get_dict_mult_values(kill_cheat)\n",
    "match_victim_ids = wrangle.get_dict_mult_values_2(kill_cheat)\n",
    "match_ids = match_killer_ids.keys()  "
   ]
  },
  {
   "cell_type": "code",
   "execution_count": 6,
   "metadata": {},
   "outputs": [
    {
     "name": "stdout",
     "output_type": "stream",
     "text": [
      "[12.2, 2.930780388260186, 13.484471138353507, 10.915528861646491]\n",
      "There is an expected count of 12.2 instances of victims becoming cheaters after being killed by a cheater, with a lower 95% confidence interval of 10.915528861646491 and an upper 95% confidence interval of 13.484471138353507\n"
     ]
    }
   ],
   "source": [
    "# I have chosen to run a for loop 20 times and keep the functions visible to this level of modularity for legibility and understanding of logic. \n",
    "# I could have wrapped this all up in one function named, for example, 'part 3,' \n",
    "# but I feel like that hides the logic and makes it harder to understand.\n",
    "\n",
    "part_2_random = []\n",
    "\n",
    "for i in range(20):\n",
    "    \n",
    "    # Generate list of all players per match and a randomised duplicate of this list, so that I can swap player fates.\n",
    "    total_players, total_players_ref = wrangle.get_dict_unique_totals_random(match_ids, match_killer_ids, match_victim_ids)\n",
    "    \n",
    "    # Swap fates of players in each match with full shuffle, and remake equivalent with new fates.\n",
    "    rand_kills = wrangle.swap_by_index_2_elements(kill_cheat, total_players, total_players_ref, match_killer_ids, match_victim_ids)\n",
    "\n",
    "    # Add dummy variable to randomised kills data to show whether victim becomes a cheater after being killed by a cheater\n",
    "    rand_kill_cheat = wrangle.add_dummies(rand_kills, cheat_date_dic)\n",
    "    \n",
    "    # Count number of instances of victim becoming a cheater after being killed by a cheater in randomised match.\n",
    "    part_2_random_count = calculate.count_1(rand_kill_cheat, 6)\n",
    "\n",
    "    # Add counted outcomes to final list\n",
    "    part_2_random.append(part_2_random_count)\n",
    "    \n",
    "part_2_stats = calculate.get_stats_list(part_2_random)\n",
    "\n",
    "print(part_2_stats)\n",
    "\n",
    "print(\"There is an expected count of\", part_2_stats[0], \n",
    "      \"instances of victims becoming cheaters after being killed by a cheater, with a lower 95% confidence interval of\", \n",
    "      part_2_stats[3], \n",
    "      \"and an upper 95% confidence interval of\", part_2_stats[2]) "
   ]
  },
  {
   "attachments": {},
   "cell_type": "markdown",
   "metadata": {},
   "source": [
    "__Part 2: Conclusions__\n",
    "\n",
    "The function of this analysis is to test whether victims of cheating tend to begin to cheat. In this case, the randomisation of teams 20 times acts as the null hypothesis against which our observed values have been tested. This null hypothesis is that victims of cheating do not then go on to cheat themselves. We are only able to reject the null hypothesis at 0.05 statistical significance if the observed count of victims who became cheaters after witnessing cheating, 47 in this case, is outside of the 95% confidence intervals.\n",
    "\n",
    "47 does fall outside the confidence intervals of my randomisation analysis. My upper confidence interval generally stays below 15. The expected number of victims of cheating who become cheaters under the null hypothesis is around 11. I ran the 20 randomisations 10 times to observe these expectations. Thus, we can reject the null hypothesis and conclude that yes, according to our analysis, victims of cheating do tend to go on and cheat themselves as a result.   "
   ]
  },
  {
   "cell_type": "markdown",
   "metadata": {},
   "source": [
    "### 3. Do observers of cheating start cheating?\n",
    "\n",
    "Use the files `cheaters.txt` and `kills.txt` to count how many players observed an active cheater on at least one occasion and then started cheating. Cheating players can be recognized because they exhibit abnormal killing patterns. We will assume that player A realizes that player B cheats if:\n",
    "\n",
    "1. Player B has started cheating but player A is not cheating.\n",
    "2. Player B kills at least 3 other players before player A gets killed in the game.\n",
    "3. At some point afterwards, player A starts cheating.\n",
    "\n",
    "Output the count in the data.\n",
    "\n",
    "Then, use the 20 randomizations from Part 2 to estimate the expected count of observers of cheating who start cheating. Output the mean and the 95% confidence interval for the expected count in these randomized worlds.\n",
    "\n",
    "*Optional: Conclude in a short comment what you observe. This reflection is optional and will not be marked.*"
   ]
  },
  {
   "cell_type": "code",
   "execution_count": 7,
   "metadata": {},
   "outputs": [
    {
     "name": "stdout",
     "output_type": "stream",
     "text": [
      "There are 213 instances of observers becoming cheaters after observing a cheater kill 3 people.\n"
     ]
    }
   ],
   "source": [
    "# 3.1 Calculate the observed number of instances of a victim becoming a cheater after observing a cheater after the cheater has killed 3 people. \n",
    "\n",
    "# Load kills data for part 3, sorted by match and date\n",
    "kills_3 = load.load_all_sorted_match_date('../assignment-final-data/kills.txt')\n",
    "        \n",
    "# Load cheaters data for part 3\n",
    "cheaters_3 = load.load_first_two_lines('../assignment-final-data/cheaters.txt')\n",
    "\n",
    "# Create dictionary of cheaters and date they started cheating\n",
    "cheat_date_dic = wrangle.get_dict(cheaters_3)\n",
    "\n",
    "# Add dummy variable for whether killer was cheater at the time of the kill\n",
    "kills_cheat_3 = wrangle.add_dummy(kills_3, cheat_date_dic)\n",
    "\n",
    "# Create dictionary of all kills per match with match_id as key and list of kills information as value \n",
    "all_kills_per_match = wrangle.make_complete_dictionary(kills_cheat_3)\n",
    "\n",
    "# Extract all kills after the 3rd kill by a killer in each match. This contains ALL info per kill.\n",
    "kills_after = wrangle.extract_entries_per_key_after_point(all_kills_per_match, 3)\n",
    "\n",
    "# Extract victim_id and time of death from kills_after\n",
    "observers = wrangle.extract_2nd_3rd_element_lolol(kills_after)\n",
    "\n",
    "# Add dummy for whether the observer became a cheater.\n",
    "observers_2 = wrangle.add_dummy_2(observers, cheat_date_dic) # add wherther observer became cheater\n",
    "\n",
    "# Create dictionary that adds observer player_id as key if they became a cheater after observing a cheater kill 3 people.\n",
    "observers_turned_cheaters_dict = wrangle.create_dict_conditional_value(observers_2, 1)\n",
    "\n",
    "print(\"There are\", len(observers_turned_cheaters_dict.keys()), \"instances of observers becoming cheaters after observing a cheater kill 3 people.\")"
   ]
  },
  {
   "cell_type": "code",
   "execution_count": 8,
   "metadata": {},
   "outputs": [
    {
     "name": "stdout",
     "output_type": "stream",
     "text": [
      "[47.3, 7.616464160999477, 50.6380625959884, 43.96193740401159]\n",
      "There is an expected count of 47.3 instances of victims becoming cheaters after observing a cheater after a cheater has got 3 kills in that game,  with a lower 95% confidence interval of 43.96193740401159 and an upper 95% confidence interval of 50.6380625959884\n"
     ]
    }
   ],
   "source": [
    "# Part 3.2 - Testing the null hypothesis \n",
    "# 3.2 Calculate the expected number of instances of a victim becoming a cheater after observing a cheater after the cheater has killed 3 people.    \n",
    "# I have chosen to run a for loop 20 times and keep the functions visible to this level of modularity for legibility and understanding of logic. \n",
    "# I could have wrapped this all up in one function named, for example, 'part 3,' \n",
    "# but I feel like that hides the logic and makes it harder to understand.\n",
    "\n",
    "\n",
    "part_3_random = []\n",
    "\n",
    "for i in range(20):\n",
    "\n",
    "    # Generate list of all players per match and a randomised duplicate of this list, so that I can swap player fates.\n",
    "    total_players_3, total_players_rand = wrangle.get_dict_unique_totals_random(match_ids, match_killer_ids, match_victim_ids)\n",
    "    \n",
    "    # Swap fates of players in each match with full shuffle, and remake kill_cheat equivalent with new fates.\n",
    "    rand_kills_3_swapped = wrangle.swap_by_index_2_elements(kills_cheat_3, total_players_3, total_players_rand, match_killer_ids, match_victim_ids)\n",
    "    \n",
    "    # Add dummy variable for whether killer is a cheater\n",
    "    rand_kills_cheat_3_swapped = wrangle.add_dummy(rand_kills_3_swapped, cheat_date_dic)\n",
    "    \n",
    "    # Create dictionary of kills per match with all randomised kill information.\n",
    "    all_kills_per_match_random = wrangle.make_complete_dictionary(rand_kills_cheat_3_swapped)\n",
    "    \n",
    "    # Extract kills information after the 3rd kill by a killer in each match. This contains ALL info per kill.\n",
    "    kills_after_random = wrangle.extract_entries_per_key_after_point(all_kills_per_match_random, 3)\n",
    "    \n",
    "    # Extract victim_id and time of death from kills_after_random\n",
    "    observers_random = wrangle.extract_2nd_3rd_element_lolol(kills_after_random)\n",
    "    \n",
    "    # Add dummy for whether observer became cheater\n",
    "    observers_2_random = wrangle.add_dummy_2(observers_random, cheat_date_dic) \n",
    "    \n",
    "    # Create dictionary that adds observer player_id as key if they became a cheater after observing a cheater kill 3 people.\n",
    "    observers_turned_cheaters_dict_random = wrangle.create_dict_conditional_value(observers_2_random, 1)\n",
    "    \n",
    "    # Get number of observers turned cheaters\n",
    "    num_random_observers_turned_cheaters = len(observers_turned_cheaters_dict_random.keys())\n",
    "    \n",
    "    part_3_random.append(num_random_observers_turned_cheaters)\n",
    "\n",
    "part_3_stats = calculate.get_stats_list(part_3_random)\n",
    "\n",
    "print(part_3_stats)\n",
    "\n",
    "print(\"There is an expected count of\", part_3_stats[0], \n",
    "      \"instances of victims becoming cheaters after observing a cheater after a cheater has got 3 kills in that game,  with a lower 95% confidence interval of\", \n",
    "      part_3_stats[3], \n",
    "      \"and an upper 95% confidence interval of\", part_3_stats[2]) "
   ]
  },
  {
   "attachments": {},
   "cell_type": "markdown",
   "metadata": {},
   "source": [
    "__Part 3: Conclusions__\n",
    "\n",
    "The function of this analysis is to test whether people who observe cheaters tend to cheat afterwards. In this case, the randomisation of teams 20 times acts as the null hypothesis against which our observed values have been tested. This null hypothesis is that observers of cheating are not then more likely to cheat. We are only able to reject the null hypothesis at 0.05 statistical significance if the observed count of observers who became cheaters, 213 in this case, is outside of the 95% confidence intervals.\n",
    "\n",
    "213 does fall outside the confidence intervals of my randomisation analysis. My upper confidence interval generally stays below 50. The expected number of victims of cheating who become cheaters under the null hypothesis is around 47. I ran the 20 randomisations 10 times to observe these expectations. Thus, we can reject the null hypothesis and conclude that yes, according to our analysis, observers of cheating are likely to become cheaters themselves.   "
   ]
  },
  {
   "cell_type": "markdown",
   "metadata": {},
   "source": [
    "---\n",
    "\n",
    "### Evaluation\n",
    "\n",
    "| Aspect         | Mark     | Comment   \n",
    "|:--------------:|:--------:|:----------------------\n",
    "| Code runs      |   /20    |              \n",
    "| Output 1       |   /10    | \n",
    "| Output 2       |   /10    | \n",
    "| Output 3       |   /10    | \n",
    "| Legibility     |   /10    | \n",
    "| Modularity     |   /10    | \n",
    "| Optimization   |   /30    | \n",
    "| **Total**      |**/100**  | \n"
   ]
  }
 ],
 "metadata": {
  "kernelspec": {
   "display_name": "base",
   "language": "python",
   "name": "python3"
  },
  "language_info": {
   "codemirror_mode": {
    "name": "ipython",
    "version": 3
   },
   "file_extension": ".py",
   "mimetype": "text/x-python",
   "name": "python",
   "nbconvert_exporter": "python",
   "pygments_lexer": "ipython3",
   "version": "3.9.12"
  },
  "vscode": {
   "interpreter": {
    "hash": "a38b4a076c1a2d0a8f19bedd64cdf82f42d64d0d8048af4d9273b41f4707752e"
   }
  }
 },
 "nbformat": 4,
 "nbformat_minor": 2
}
